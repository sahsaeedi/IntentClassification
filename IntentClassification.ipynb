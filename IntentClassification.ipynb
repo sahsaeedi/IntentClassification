{
  "nbformat": 4,
  "nbformat_minor": 0,
  "metadata": {
    "kernelspec": {
      "display_name": "Python 3",
      "language": "python",
      "name": "python3"
    },
    "language_info": {
      "codemirror_mode": {
        "name": "ipython",
        "version": 3
      },
      "file_extension": ".py",
      "mimetype": "text/x-python",
      "name": "python",
      "nbconvert_exporter": "python",
      "pygments_lexer": "ipython3",
      "version": "3.6.3"
    },
    "colab": {
      "name": "intent classification.ipynb",
      "provenance": []
    }
  },
  "cells": [
    {
      "cell_type": "code",
      "metadata": {
        "id": "twCaj9sto-Ft"
      },
      "source": [
        "from tensorflow.keras.preprocessing.sequence import pad_sequences\n",
        "from tensorflow.keras.layers import Embedding, LSTM, Dense, Dropout, Bidirectional\n",
        "from tensorflow.keras.preprocessing.text import Tokenizer\n",
        "from tensorflow.keras.models import Sequential\n",
        "from tensorflow.keras.optimizers import Adam\n",
        "### YOUR CODE HERE\n",
        "# Figure out how to import regularizers\n",
        "###\n",
        "import tensorflow.keras.utils as ku \n",
        "import numpy as np\n",
        "import pandas as pd\n"
      ],
      "execution_count": null,
      "outputs": []
    },
    {
      "cell_type": "code",
      "metadata": {
        "colab": {
          "base_uri": "https://localhost:8080/"
        },
        "id": "v76nmeZEpHDy",
        "outputId": "1ce6a786-e186-43df-9605-10374d30d397"
      },
      "source": [
        "from google.colab import drive\n",
        "drive.mount('/content/drive')"
      ],
      "execution_count": null,
      "outputs": [
        {
          "output_type": "stream",
          "text": [
            "Drive already mounted at /content/drive; to attempt to forcibly remount, call drive.mount(\"/content/drive\", force_remount=True).\n"
          ],
          "name": "stdout"
        }
      ]
    },
    {
      "cell_type": "code",
      "metadata": {
        "id": "f_jO_1gzo-F1",
        "colab": {
          "base_uri": "https://localhost:8080/",
          "height": 207
        },
        "outputId": "8b10107c-0537-4faf-bd58-9821360c1e1f"
      },
      "source": [
        "import os\n",
        "os.chdir(\"/content/drive/My Drive\")\n",
        "os.mkdir(\"NLP-AIBOT\")\n"
      ],
      "execution_count": null,
      "outputs": [
        {
          "output_type": "error",
          "ename": "FileExistsError",
          "evalue": "ignored",
          "traceback": [
            "\u001b[0;31m---------------------------------------------------------------------------\u001b[0m",
            "\u001b[0;31mFileExistsError\u001b[0m                           Traceback (most recent call last)",
            "\u001b[0;32m<ipython-input-74-3216c7474586>\u001b[0m in \u001b[0;36m<module>\u001b[0;34m()\u001b[0m\n\u001b[1;32m      1\u001b[0m \u001b[0;32mimport\u001b[0m \u001b[0mos\u001b[0m\u001b[0;34m\u001b[0m\u001b[0;34m\u001b[0m\u001b[0m\n\u001b[1;32m      2\u001b[0m \u001b[0mos\u001b[0m\u001b[0;34m.\u001b[0m\u001b[0mchdir\u001b[0m\u001b[0;34m(\u001b[0m\u001b[0;34m\"/content/drive/My Drive\"\u001b[0m\u001b[0;34m)\u001b[0m\u001b[0;34m\u001b[0m\u001b[0;34m\u001b[0m\u001b[0m\n\u001b[0;32m----> 3\u001b[0;31m \u001b[0mos\u001b[0m\u001b[0;34m.\u001b[0m\u001b[0mmkdir\u001b[0m\u001b[0;34m(\u001b[0m\u001b[0;34m\"NLP-AIBOT\"\u001b[0m\u001b[0;34m)\u001b[0m\u001b[0;34m\u001b[0m\u001b[0;34m\u001b[0m\u001b[0m\n\u001b[0m",
            "\u001b[0;31mFileExistsError\u001b[0m: [Errno 17] File exists: 'NLP-AIBOT'"
          ]
        }
      ]
    },
    {
      "cell_type": "code",
      "metadata": {
        "id": "WNpuuYEbpcaK"
      },
      "source": [
        "import os\n",
        "os.chdir(\"/content/drive/My Drive/NLP-AIBOT\")"
      ],
      "execution_count": null,
      "outputs": []
    },
    {
      "cell_type": "code",
      "metadata": {
        "id": "2_O1_LP-o-F3"
      },
      "source": [
        "df_weather = pd.read_csv('./Dataset - Weather.csv', encoding = 'utf-8')\n",
        "df_religous = pd.read_csv('Dataset - Religious_time.csv', encoding = 'utf-8')\n",
        "df_time = pd.read_csv('./Dataset - Time.csv', encoding = 'utf-8')\n",
        "df_cal = pd.read_csv('./Dataset - Calendar.csv', encoding = 'utf-8')\n",
        "df_greeting = pd.read_csv('./Dataset - Greeting.csv', encoding = 'utf-8')\n"
      ],
      "execution_count": null,
      "outputs": []
    },
    {
      "cell_type": "code",
      "metadata": {
        "id": "oLD9B_MAo-F4"
      },
      "source": [
        "df_greeting.dropna(subset = ['Sentences'], inplace=True)"
      ],
      "execution_count": null,
      "outputs": []
    },
    {
      "cell_type": "code",
      "metadata": {
        "colab": {
          "base_uri": "https://localhost:8080/"
        },
        "id": "2ZWyIQ4tzmvZ",
        "outputId": "cd771e00-91f1-44a7-e661-8e272d07b041"
      },
      "source": [
        "df_greeting.columns"
      ],
      "execution_count": null,
      "outputs": [
        {
          "output_type": "execute_result",
          "data": {
            "text/plain": [
              "Index(['Sentences', 'Answer', 'response type', 'intent'], dtype='object')"
            ]
          },
          "metadata": {
            "tags": []
          },
          "execution_count": 78
        }
      ]
    },
    {
      "cell_type": "code",
      "metadata": {
        "id": "eQfoGb-pzbHb"
      },
      "source": [
        ""
      ],
      "execution_count": null,
      "outputs": []
    },
    {
      "cell_type": "code",
      "metadata": {
        "id": "XeFFO6b_o-F6"
      },
      "source": [
        "df_weather = df_weather.drop([0])\n",
        "df_time = df_time.drop([0])\n",
        "df_religous = df_religous.drop([0])\n",
        "df_cal = df_cal.drop([0])\n",
        "df_greeting = df_greeting.drop([9])"
      ],
      "execution_count": null,
      "outputs": []
    },
    {
      "cell_type": "code",
      "metadata": {
        "colab": {
          "base_uri": "https://localhost:8080/"
        },
        "id": "hkhm8V5yo-F7",
        "outputId": "07cc6264-ba6d-4274-afa8-6203dea12ce5"
      },
      "source": [
        "df_weather.columns"
      ],
      "execution_count": null,
      "outputs": [
        {
          "output_type": "execute_result",
          "data": {
            "text/plain": [
              "Index(['Unnamed: 0', 'command', 'command details', 'Unnamed: 3', 'Unnamed: 4',\n",
              "       'Unnamed: 5', 'Unnamed: 6', 'Unnamed: 7', 'Unnamed: 8', 'Unnamed: 9',\n",
              "       'Unnamed: 10', 'api details', 'Unnamed: 12', 'Unnamed: 13',\n",
              "       'response details', 'Unnamed: 15', 'Unnamed: 16', 'Unnamed: 17',\n",
              "       'Unnamed: 18', 'Unnamed: 19', 'response'],\n",
              "      dtype='object')"
            ]
          },
          "metadata": {
            "tags": []
          },
          "execution_count": 80
        }
      ]
    },
    {
      "cell_type": "code",
      "metadata": {
        "id": "b_bMh2t1o-F8"
      },
      "source": [
        "command_weather = []\n",
        "command_time = []\n",
        "command_cal = []\n",
        "command_religous = []\n",
        "command_greeting = []\n",
        "\n",
        "for command, intent in zip(df_weather['command'], df_weather['command details']):\n",
        "    temp = []\n",
        "    temp.append(command)\n",
        "    temp.append(0)\n",
        "    command_weather.append(temp)\n",
        "\n",
        "for command, intent in zip(df_time['command'], df_time['command details']):\n",
        "    temp = []\n",
        "    temp.append(command)\n",
        "    temp.append(1)\n",
        "    command_time.append(temp)\n",
        "\n",
        "for command, intent in zip(df_religous['command'], df_religous['command details']):\n",
        "    temp = []\n",
        "    temp.append(command)\n",
        "    temp.append(2)\n",
        "    command_religous.append(temp)\n",
        "\n",
        "for command, intent in zip(df_cal['command'], df_cal['command details']):\n",
        "    temp = []\n",
        "    temp.append(command)\n",
        "    temp.append(3)\n",
        "    command_cal.append(temp)\n",
        "\n",
        "for command in df_greeting['Sentences']:\n",
        "    temp = []\n",
        "    temp.append(command)\n",
        "    temp.append(4)\n",
        "    command_greeting.append(temp)\n",
        "    "
      ],
      "execution_count": null,
      "outputs": []
    },
    {
      "cell_type": "code",
      "metadata": {
        "colab": {
          "base_uri": "https://localhost:8080/",
          "height": 36
        },
        "id": "LhmSi7E4UcW1",
        "outputId": "3f05ccb9-c40c-46f8-eab0-830e9391f3e1"
      },
      "source": [
        "df_weather['command'][10]"
      ],
      "execution_count": null,
      "outputs": [
        {
          "output_type": "execute_result",
          "data": {
            "application/vnd.google.colaboratory.intrinsic+json": {
              "type": "string"
            },
            "text/plain": [
              "'اندازه دمای هوای دو روز بعد تهران به چه میزان است'"
            ]
          },
          "metadata": {
            "tags": []
          },
          "execution_count": 117
        }
      ]
    },
    {
      "cell_type": "code",
      "metadata": {
        "id": "KmFQKkoZURhP"
      },
      "source": [
        "command_weather_train = []\n",
        "command_time_train = []\n",
        "command_cal_train = []\n",
        "command_religous_train = []\n",
        "command_greeting_train = []\n",
        "\n",
        "command_weather_test = []\n",
        "command_time_test = []\n",
        "command_cal_test = []\n",
        "command_religous_test = []\n",
        "command_greeting_test = []\n",
        "\n",
        "for index in range(len(df_weather['command'])):\n",
        "    t1 =int(len(df_weather['command']) * 0.9)\n",
        "    if index <= t1:\n",
        "      command_weather_train.append([df_weather['command'][index], 0])\n",
        "    else:\n",
        "      command_weather_test.append([df_weather['command'][index], 0])\n",
        "\n",
        "for index in range(len(df_weather['command'])):\n",
        "    t1 =int(len(df_weather['command']) * 0.9)\n",
        "    if index <= t1:\n",
        "      command_time_train.append([df_weather['command'][index], 1])\n",
        "    else:\n",
        "      command_time_test.append([df_weather['command'][index], 1])\n",
        "\n",
        "for command, intent in zip(df_religous['command'], df_religous['command details']):\n",
        "    temp = []\n",
        "    temp.append(command)\n",
        "    temp.append(2)\n",
        "    command_religous.append(temp)\n",
        "\n",
        "for command, intent in zip(df_cal['command'], df_cal['command details']):\n",
        "    temp = []\n",
        "    temp.append(command)\n",
        "    temp.append(3)\n",
        "    command_cal.append(temp)\n",
        "\n",
        "for command in df_greeting['Sentences']:\n",
        "    temp = []\n",
        "    temp.append(command.strip())\n",
        "    temp.append(4)\n",
        "    command_greeting.append(temp)\n",
        "    "
      ],
      "execution_count": null,
      "outputs": []
    },
    {
      "cell_type": "code",
      "metadata": {
        "colab": {
          "base_uri": "https://localhost:8080/"
        },
        "id": "gUyQ-Fwdo-F9",
        "outputId": "9c200a97-ae47-43d5-aa35-01c3a3784910"
      },
      "source": [
        "len(command_weather), len(command_cal), len(command_religous), len(command_time), len(command_greeting)"
      ],
      "execution_count": null,
      "outputs": [
        {
          "output_type": "execute_result",
          "data": {
            "text/plain": [
              "(133, 40, 30, 26, 33)"
            ]
          },
          "metadata": {
            "tags": []
          },
          "execution_count": 82
        }
      ]
    },
    {
      "cell_type": "code",
      "metadata": {
        "id": "-Z6TjO79o-F-"
      },
      "source": [
        "dataset = [*command_weather, *command_religous, *command_time, *command_cal, *command_greeting]"
      ],
      "execution_count": null,
      "outputs": []
    },
    {
      "cell_type": "code",
      "metadata": {
        "colab": {
          "base_uri": "https://localhost:8080/"
        },
        "id": "TRSKuv9mo-GA",
        "outputId": "0e4adfff-04a3-4230-c8ea-8f8ff6456491"
      },
      "source": [
        "len(dataset)"
      ],
      "execution_count": null,
      "outputs": [
        {
          "output_type": "execute_result",
          "data": {
            "text/plain": [
              "262"
            ]
          },
          "metadata": {
            "tags": []
          },
          "execution_count": 84
        }
      ]
    },
    {
      "cell_type": "code",
      "metadata": {
        "id": "BRhpHqN2rf9e"
      },
      "source": [
        "import pickle\n",
        "with open('dataset.pkl', 'wb') as f:\n",
        "  pickle.dump(dataset, f)"
      ],
      "execution_count": null,
      "outputs": []
    },
    {
      "cell_type": "code",
      "metadata": {
        "id": "SDqGNYncrpF9"
      },
      "source": [
        "favorite_color = pickle.load( open( \"dataset.pkl\", \"rb\" ) )"
      ],
      "execution_count": null,
      "outputs": []
    },
    {
      "cell_type": "code",
      "metadata": {
        "colab": {
          "base_uri": "https://localhost:8080/"
        },
        "id": "xyGQIRDHro9p",
        "outputId": "e88449f8-136a-42c9-89b6-3b6e1e00de34"
      },
      "source": [
        "favorite_color[200:]"
      ],
      "execution_count": null,
      "outputs": [
        {
          "output_type": "execute_result",
          "data": {
            "text/plain": [
              "[['روز جمهوری اسلامی در سال 1400', 3],\n",
              " ['کدام روز از سال ۱۴۰۰ روز قلم است', 3],\n",
              " ['سالگرد اعلام پذیرش قطعنامه ۵۹۸ شورای امنیت از سوی ایران در کدام روز ۱۴۰۰ اتفاق افتاده است',\n",
              "  3],\n",
              " ['تاریخ روز صنعت و معدن امسال چه روزی است', 3],\n",
              " ['در این سال روز عرفه چه روزی بود', 3],\n",
              " ['تاریخ برگزاری اولین کنکور در ایران', 3],\n",
              " ['روز خبرنگار کدام روز از امسال است', 3],\n",
              " ['عید سعید غدیر خم کدام روز امسال است', 3],\n",
              " ['تاریخ ولادت امام موسی کاظم علیه السلام در سال ۹۹', 3],\n",
              " ['تاریخ روز جهانی چپ دست ها در سال 99', 3],\n",
              " ['روز بزرگداشت ابوعلی سینا و روز پزشک در کدام روز سال ۹۹ است', 3],\n",
              " ['روز سینما در سال ۱۳۹۹', 3],\n",
              " ['مناسبت روز ۱۸ اسفند امسال چیست', 3],\n",
              " ['مناسبت ۱۸ اسفند سال بعد چیست', 3],\n",
              " ['چه مناسبت هایی در هفته پیش رو وجود دارد', 3],\n",
              " ['چه مناسبت هایی در تاریخ 14 تا 19 دی وجود دارد ', 3],\n",
              " ['22 بهمن سال آینده به میلادی؟', 3],\n",
              " ['17 شهریور به میلادی؟', 3],\n",
              " ['تاریخ میلادی امروز', 3],\n",
              " ['11 محرم سال بعد به میلادی؟', 3],\n",
              " ['12 فوریه 1996 به شمسی؟ ', 3],\n",
              " ['تاریخ شمسی امروز', 3],\n",
              " ['21 رمضان 1449 به شمسی؟', 3],\n",
              " ['23 بهمن سال آینده به قمری ؟', 3],\n",
              " ['12 فوریه  1996 به قمری', 3],\n",
              " ['از 12 بهمن تا 29 اذر چند روز است', 3],\n",
              " ['فاصله بین روز سینما  و  روز پزشک', 3],\n",
              " ['چند روز تا عاشورا مانده است؟', 3],\n",
              " ['چند روز تا ۱۵ اردیبهشت مانده است؟', 3],\n",
              " ['سلام', 4],\n",
              " ['سلام ماتریس', 4],\n",
              " ['درود', 4],\n",
              " ['درود بر تو', 4],\n",
              " ['سلام کراکن', 4],\n",
              " ['سلام گل من', 4],\n",
              " ['سلام خوشگلم', 4],\n",
              " ['سلام عزیزم', 4],\n",
              " ['درود بر شما', 4],\n",
              " ['حالت چطوره', 4],\n",
              " ['خوبی', 4],\n",
              " ['حالت خوبه', 4],\n",
              " ['چطوری', 4],\n",
              " ['رو به راهی رو به رشدی', 4],\n",
              " ['چه خبر', 4],\n",
              " ['دیگه چه خبر', 4],\n",
              " ['چه خبرا', 4],\n",
              " ['خسته نباشی', 4],\n",
              " ['راجع به چی بپرسم', 4],\n",
              " ['در چه زمینه ای میتونم سوال بپرسم', 4],\n",
              " ['راجع به چی میتونم بپرسم', 4],\n",
              " ['از چی بپرسم', 4],\n",
              " ['چی بگم', 4],\n",
              " ['مرسی', 4],\n",
              " ['ممنونم', 4],\n",
              " ['متشکرم', 4],\n",
              " ['سپاس', 4],\n",
              " ['تشکر', 4],\n",
              " ['خداحافظ', 4],\n",
              " ['خدا نگهدار', 4],\n",
              " ['بدرود', 4],\n",
              " ['فعلا', 4],\n",
              " ['من رفتم', 4]]"
            ]
          },
          "metadata": {
            "tags": []
          },
          "execution_count": 129
        }
      ]
    },
    {
      "cell_type": "code",
      "metadata": {
        "id": "6V5PQgL6o-GB"
      },
      "source": [
        ""
      ],
      "execution_count": null,
      "outputs": []
    },
    {
      "cell_type": "code",
      "metadata": {
        "id": "d6p2Zj6Po-GC"
      },
      "source": [
        ""
      ],
      "execution_count": null,
      "outputs": []
    },
    {
      "cell_type": "code",
      "metadata": {
        "id": "iPzxnStfo-GD"
      },
      "source": [
        ""
      ],
      "execution_count": null,
      "outputs": []
    },
    {
      "cell_type": "code",
      "metadata": {
        "id": "kghtB49ao-GE"
      },
      "source": [
        ""
      ],
      "execution_count": null,
      "outputs": []
    },
    {
      "cell_type": "code",
      "metadata": {
        "scrolled": true,
        "id": "m7-_yOaWo-GF"
      },
      "source": [
        ""
      ],
      "execution_count": null,
      "outputs": []
    },
    {
      "cell_type": "code",
      "metadata": {
        "id": "F3jyZ0P8o-GG"
      },
      "source": [
        "sentences = []\n",
        "intents = []\n",
        "for text, i in dataset:\n",
        "    sentences.append(text)\n",
        "    intents.append(i)"
      ],
      "execution_count": null,
      "outputs": []
    },
    {
      "cell_type": "code",
      "metadata": {
        "id": "s2Fc3g9_o-GH"
      },
      "source": [
        "tokenizer = Tokenizer()\n",
        "tokenizer.fit_on_texts(sentences)\n"
      ],
      "execution_count": null,
      "outputs": []
    },
    {
      "cell_type": "code",
      "metadata": {
        "colab": {
          "base_uri": "https://localhost:8080/"
        },
        "id": "hiOSndSt1qrI",
        "outputId": "a6a17579-386f-430f-fb32-bc67614c08d0"
      },
      "source": [
        "total_words = len(tokenizer.word_index) + 1\n",
        "total_words"
      ],
      "execution_count": null,
      "outputs": [
        {
          "output_type": "execute_result",
          "data": {
            "text/plain": [
              "342"
            ]
          },
          "metadata": {
            "tags": []
          },
          "execution_count": 90
        }
      ]
    },
    {
      "cell_type": "code",
      "metadata": {
        "scrolled": true,
        "colab": {
          "base_uri": "https://localhost:8080/"
        },
        "id": "VlrBNE2-o-GH",
        "outputId": "8a8a87f6-02d4-47a3-b8d4-1711e6a74657"
      },
      "source": [
        "input_sequences = tokenizer.texts_to_sequences(sentences)\n",
        "max_sequence_len = max([len(x) for x in input_sequences])\n",
        "input_sequences = np.array(pad_sequences(input_sequences, maxlen=max_sequence_len, padding='post'))\n",
        "input_sequences[0]"
      ],
      "execution_count": null,
      "outputs": [
        {
          "output_type": "execute_result",
          "data": {
            "text/plain": [
              "array([ 52, 112,   1,   0,   0,   0,   0,   0,   0,   0,   0,   0,   0,\n",
              "         0,   0,   0,   0,   0,   0,   0], dtype=int32)"
            ]
          },
          "metadata": {
            "tags": []
          },
          "execution_count": 91
        }
      ]
    },
    {
      "cell_type": "code",
      "metadata": {
        "id": "4r07Uyalo-GI"
      },
      "source": [
        "label = ku.to_categorical(intents, num_classes=5)"
      ],
      "execution_count": null,
      "outputs": []
    },
    {
      "cell_type": "code",
      "metadata": {
        "id": "mOOzkbw-o-GI"
      },
      "source": [
        "model = Sequential()\n",
        "model.add(Embedding(total_words, 100, input_length= max_sequence_len - 1))\n",
        "model.add(Bidirectional(LSTM(64)))\n",
        "model.add(Dense(5, activation='softmax'))\n"
      ],
      "execution_count": null,
      "outputs": []
    },
    {
      "cell_type": "code",
      "metadata": {
        "colab": {
          "base_uri": "https://localhost:8080/"
        },
        "id": "Y_dg8uCao-GJ",
        "outputId": "eb7fdd8e-7e9e-4919-fa5f-8fd7322a05b3"
      },
      "source": [
        "# Pick an optimizer\n",
        "adam = Adam(learning_rate = 0.01)\n",
        "model.compile(loss = \"categorical_crossentropy\", optimizer = adam, metrics = [\"accuracy\"])\n",
        "print(model.summary())\n"
      ],
      "execution_count": null,
      "outputs": [
        {
          "output_type": "stream",
          "text": [
            "Model: \"sequential_2\"\n",
            "_________________________________________________________________\n",
            "Layer (type)                 Output Shape              Param #   \n",
            "=================================================================\n",
            "embedding_2 (Embedding)      (None, 19, 100)           34200     \n",
            "_________________________________________________________________\n",
            "bidirectional_2 (Bidirection (None, 128)               84480     \n",
            "_________________________________________________________________\n",
            "dense_2 (Dense)              (None, 5)                 645       \n",
            "=================================================================\n",
            "Total params: 119,325\n",
            "Trainable params: 119,325\n",
            "Non-trainable params: 0\n",
            "_________________________________________________________________\n",
            "None\n"
          ],
          "name": "stdout"
        }
      ]
    },
    {
      "cell_type": "code",
      "metadata": {
        "colab": {
          "base_uri": "https://localhost:8080/"
        },
        "id": "D9zaaL_dqKDu",
        "outputId": "5b38c392-006e-4cb0-c616-b73ab41bfbb5"
      },
      "source": [
        " history = model.fit(input_sequences, label, epochs=100, verbose=1)"
      ],
      "execution_count": null,
      "outputs": [
        {
          "output_type": "stream",
          "text": [
            "Epoch 1/100\n",
            "WARNING:tensorflow:Model was constructed with shape (None, 19) for input KerasTensor(type_spec=TensorSpec(shape=(None, 19), dtype=tf.float32, name='embedding_2_input'), name='embedding_2_input', description=\"created by layer 'embedding_2_input'\"), but it was called on an input with incompatible shape (None, 20).\n",
            "WARNING:tensorflow:Model was constructed with shape (None, 19) for input KerasTensor(type_spec=TensorSpec(shape=(None, 19), dtype=tf.float32, name='embedding_2_input'), name='embedding_2_input', description=\"created by layer 'embedding_2_input'\"), but it was called on an input with incompatible shape (None, 20).\n",
            "9/9 [==============================] - 3s 21ms/step - loss: 1.1048 - accuracy: 0.5191\n",
            "Epoch 2/100\n",
            "9/9 [==============================] - 0s 23ms/step - loss: 0.5373 - accuracy: 0.7824\n",
            "Epoch 3/100\n",
            "9/9 [==============================] - 0s 21ms/step - loss: 0.1796 - accuracy: 0.9809\n",
            "Epoch 4/100\n",
            "9/9 [==============================] - 0s 21ms/step - loss: 0.1698 - accuracy: 0.9618\n",
            "Epoch 5/100\n",
            "9/9 [==============================] - 0s 25ms/step - loss: 0.0284 - accuracy: 0.9962\n",
            "Epoch 6/100\n",
            "9/9 [==============================] - 0s 23ms/step - loss: 0.0107 - accuracy: 1.0000\n",
            "Epoch 7/100\n",
            "9/9 [==============================] - 0s 22ms/step - loss: 0.0053 - accuracy: 1.0000\n",
            "Epoch 8/100\n",
            "9/9 [==============================] - 0s 21ms/step - loss: 0.0030 - accuracy: 1.0000\n",
            "Epoch 9/100\n",
            "9/9 [==============================] - 0s 24ms/step - loss: 0.0020 - accuracy: 1.0000\n",
            "Epoch 10/100\n",
            "9/9 [==============================] - 0s 23ms/step - loss: 0.0015 - accuracy: 1.0000\n",
            "Epoch 11/100\n",
            "9/9 [==============================] - 0s 20ms/step - loss: 0.0012 - accuracy: 1.0000\n",
            "Epoch 12/100\n",
            "9/9 [==============================] - 0s 21ms/step - loss: 9.5151e-04 - accuracy: 1.0000\n",
            "Epoch 13/100\n",
            "9/9 [==============================] - 0s 21ms/step - loss: 8.1092e-04 - accuracy: 1.0000\n",
            "Epoch 14/100\n",
            "9/9 [==============================] - 0s 21ms/step - loss: 7.2209e-04 - accuracy: 1.0000\n",
            "Epoch 15/100\n",
            "9/9 [==============================] - 0s 26ms/step - loss: 6.4620e-04 - accuracy: 1.0000\n",
            "Epoch 16/100\n",
            "9/9 [==============================] - 0s 23ms/step - loss: 5.8378e-04 - accuracy: 1.0000\n",
            "Epoch 17/100\n",
            "9/9 [==============================] - 0s 21ms/step - loss: 5.3201e-04 - accuracy: 1.0000\n",
            "Epoch 18/100\n",
            "9/9 [==============================] - 0s 22ms/step - loss: 4.8960e-04 - accuracy: 1.0000\n",
            "Epoch 19/100\n",
            "9/9 [==============================] - 0s 23ms/step - loss: 4.4671e-04 - accuracy: 1.0000\n",
            "Epoch 20/100\n",
            "9/9 [==============================] - 0s 25ms/step - loss: 4.1287e-04 - accuracy: 1.0000\n",
            "Epoch 21/100\n",
            "9/9 [==============================] - 0s 22ms/step - loss: 3.8243e-04 - accuracy: 1.0000\n",
            "Epoch 22/100\n",
            "9/9 [==============================] - 0s 22ms/step - loss: 3.5666e-04 - accuracy: 1.0000\n",
            "Epoch 23/100\n",
            "9/9 [==============================] - 0s 21ms/step - loss: 3.3371e-04 - accuracy: 1.0000\n",
            "Epoch 24/100\n",
            "9/9 [==============================] - 0s 22ms/step - loss: 3.1442e-04 - accuracy: 1.0000\n",
            "Epoch 25/100\n",
            "9/9 [==============================] - 0s 21ms/step - loss: 2.9457e-04 - accuracy: 1.0000\n",
            "Epoch 26/100\n",
            "9/9 [==============================] - 0s 21ms/step - loss: 2.7697e-04 - accuracy: 1.0000\n",
            "Epoch 27/100\n",
            "9/9 [==============================] - 0s 21ms/step - loss: 2.6174e-04 - accuracy: 1.0000\n",
            "Epoch 28/100\n",
            "9/9 [==============================] - 0s 21ms/step - loss: 2.4645e-04 - accuracy: 1.0000\n",
            "Epoch 29/100\n",
            "9/9 [==============================] - 0s 24ms/step - loss: 2.3197e-04 - accuracy: 1.0000\n",
            "Epoch 30/100\n",
            "9/9 [==============================] - 0s 21ms/step - loss: 2.2014e-04 - accuracy: 1.0000\n",
            "Epoch 31/100\n",
            "9/9 [==============================] - 0s 22ms/step - loss: 2.0849e-04 - accuracy: 1.0000\n",
            "Epoch 32/100\n",
            "9/9 [==============================] - 0s 22ms/step - loss: 1.9827e-04 - accuracy: 1.0000\n",
            "Epoch 33/100\n",
            "9/9 [==============================] - 0s 22ms/step - loss: 1.8807e-04 - accuracy: 1.0000\n",
            "Epoch 34/100\n",
            "9/9 [==============================] - 0s 23ms/step - loss: 1.7901e-04 - accuracy: 1.0000\n",
            "Epoch 35/100\n",
            "9/9 [==============================] - 0s 21ms/step - loss: 1.7033e-04 - accuracy: 1.0000\n",
            "Epoch 36/100\n",
            "9/9 [==============================] - 0s 21ms/step - loss: 1.6304e-04 - accuracy: 1.0000\n",
            "Epoch 37/100\n",
            "9/9 [==============================] - 0s 21ms/step - loss: 1.5512e-04 - accuracy: 1.0000\n",
            "Epoch 38/100\n",
            "9/9 [==============================] - 0s 22ms/step - loss: 1.4799e-04 - accuracy: 1.0000\n",
            "Epoch 39/100\n",
            "9/9 [==============================] - 0s 22ms/step - loss: 1.4175e-04 - accuracy: 1.0000\n",
            "Epoch 40/100\n",
            "9/9 [==============================] - 0s 21ms/step - loss: 1.3595e-04 - accuracy: 1.0000\n",
            "Epoch 41/100\n",
            "9/9 [==============================] - 0s 22ms/step - loss: 1.3073e-04 - accuracy: 1.0000\n",
            "Epoch 42/100\n",
            "9/9 [==============================] - 0s 21ms/step - loss: 1.2528e-04 - accuracy: 1.0000\n",
            "Epoch 43/100\n",
            "9/9 [==============================] - 0s 21ms/step - loss: 1.2034e-04 - accuracy: 1.0000\n",
            "Epoch 44/100\n",
            "9/9 [==============================] - 0s 22ms/step - loss: 1.1568e-04 - accuracy: 1.0000\n",
            "Epoch 45/100\n",
            "9/9 [==============================] - 0s 21ms/step - loss: 1.1113e-04 - accuracy: 1.0000\n",
            "Epoch 46/100\n",
            "9/9 [==============================] - 0s 22ms/step - loss: 1.0689e-04 - accuracy: 1.0000\n",
            "Epoch 47/100\n",
            "9/9 [==============================] - 0s 22ms/step - loss: 1.0277e-04 - accuracy: 1.0000\n",
            "Epoch 48/100\n",
            "9/9 [==============================] - 0s 25ms/step - loss: 9.8792e-05 - accuracy: 1.0000\n",
            "Epoch 49/100\n",
            "9/9 [==============================] - 0s 26ms/step - loss: 9.5184e-05 - accuracy: 1.0000\n",
            "Epoch 50/100\n",
            "9/9 [==============================] - 0s 21ms/step - loss: 9.1649e-05 - accuracy: 1.0000\n",
            "Epoch 51/100\n",
            "9/9 [==============================] - 0s 21ms/step - loss: 8.8026e-05 - accuracy: 1.0000\n",
            "Epoch 52/100\n",
            "9/9 [==============================] - 0s 23ms/step - loss: 8.4838e-05 - accuracy: 1.0000\n",
            "Epoch 53/100\n",
            "9/9 [==============================] - 0s 25ms/step - loss: 8.1656e-05 - accuracy: 1.0000\n",
            "Epoch 54/100\n",
            "9/9 [==============================] - 0s 22ms/step - loss: 7.8608e-05 - accuracy: 1.0000\n",
            "Epoch 55/100\n",
            "9/9 [==============================] - 0s 21ms/step - loss: 7.5451e-05 - accuracy: 1.0000\n",
            "Epoch 56/100\n",
            "9/9 [==============================] - 0s 21ms/step - loss: 7.2594e-05 - accuracy: 1.0000\n",
            "Epoch 57/100\n",
            "9/9 [==============================] - 0s 21ms/step - loss: 6.9889e-05 - accuracy: 1.0000\n",
            "Epoch 58/100\n",
            "9/9 [==============================] - 0s 21ms/step - loss: 6.7090e-05 - accuracy: 1.0000\n",
            "Epoch 59/100\n",
            "9/9 [==============================] - 0s 23ms/step - loss: 6.4575e-05 - accuracy: 1.0000\n",
            "Epoch 60/100\n",
            "9/9 [==============================] - 0s 21ms/step - loss: 6.2159e-05 - accuracy: 1.0000\n",
            "Epoch 61/100\n",
            "9/9 [==============================] - 0s 21ms/step - loss: 5.9524e-05 - accuracy: 1.0000\n",
            "Epoch 62/100\n",
            "9/9 [==============================] - 0s 23ms/step - loss: 5.7246e-05 - accuracy: 1.0000\n",
            "Epoch 63/100\n",
            "9/9 [==============================] - 0s 20ms/step - loss: 5.4821e-05 - accuracy: 1.0000\n",
            "Epoch 64/100\n",
            "9/9 [==============================] - 0s 24ms/step - loss: 5.2537e-05 - accuracy: 1.0000\n",
            "Epoch 65/100\n",
            "9/9 [==============================] - 0s 24ms/step - loss: 5.0553e-05 - accuracy: 1.0000\n",
            "Epoch 66/100\n",
            "9/9 [==============================] - 0s 21ms/step - loss: 4.8769e-05 - accuracy: 1.0000\n",
            "Epoch 67/100\n",
            "9/9 [==============================] - 0s 23ms/step - loss: 4.6884e-05 - accuracy: 1.0000\n",
            "Epoch 68/100\n",
            "9/9 [==============================] - 0s 22ms/step - loss: 4.5224e-05 - accuracy: 1.0000\n",
            "Epoch 69/100\n",
            "9/9 [==============================] - 0s 25ms/step - loss: 4.3704e-05 - accuracy: 1.0000\n",
            "Epoch 70/100\n",
            "9/9 [==============================] - 0s 22ms/step - loss: 4.2196e-05 - accuracy: 1.0000\n",
            "Epoch 71/100\n",
            "9/9 [==============================] - 0s 22ms/step - loss: 4.0807e-05 - accuracy: 1.0000\n",
            "Epoch 72/100\n",
            "9/9 [==============================] - 0s 21ms/step - loss: 3.9485e-05 - accuracy: 1.0000\n",
            "Epoch 73/100\n",
            "9/9 [==============================] - 0s 22ms/step - loss: 3.8216e-05 - accuracy: 1.0000\n",
            "Epoch 74/100\n",
            "9/9 [==============================] - 0s 22ms/step - loss: 3.6921e-05 - accuracy: 1.0000\n",
            "Epoch 75/100\n",
            "9/9 [==============================] - 0s 21ms/step - loss: 3.5722e-05 - accuracy: 1.0000\n",
            "Epoch 76/100\n",
            "9/9 [==============================] - 0s 22ms/step - loss: 3.4518e-05 - accuracy: 1.0000\n",
            "Epoch 77/100\n",
            "9/9 [==============================] - 0s 22ms/step - loss: 3.3467e-05 - accuracy: 1.0000\n",
            "Epoch 78/100\n",
            "9/9 [==============================] - 0s 23ms/step - loss: 3.2455e-05 - accuracy: 1.0000\n",
            "Epoch 79/100\n",
            "9/9 [==============================] - 0s 23ms/step - loss: 3.1565e-05 - accuracy: 1.0000\n",
            "Epoch 80/100\n",
            "9/9 [==============================] - 0s 21ms/step - loss: 3.0708e-05 - accuracy: 1.0000\n",
            "Epoch 81/100\n",
            "9/9 [==============================] - 0s 22ms/step - loss: 2.9906e-05 - accuracy: 1.0000\n",
            "Epoch 82/100\n",
            "9/9 [==============================] - 0s 22ms/step - loss: 2.9158e-05 - accuracy: 1.0000\n",
            "Epoch 83/100\n",
            "9/9 [==============================] - 0s 22ms/step - loss: 2.8346e-05 - accuracy: 1.0000\n",
            "Epoch 84/100\n",
            "9/9 [==============================] - 0s 23ms/step - loss: 2.7601e-05 - accuracy: 1.0000\n",
            "Epoch 85/100\n",
            "9/9 [==============================] - 0s 22ms/step - loss: 2.6930e-05 - accuracy: 1.0000\n",
            "Epoch 86/100\n",
            "9/9 [==============================] - 0s 21ms/step - loss: 2.6244e-05 - accuracy: 1.0000\n",
            "Epoch 87/100\n",
            "9/9 [==============================] - 0s 24ms/step - loss: 2.5640e-05 - accuracy: 1.0000\n",
            "Epoch 88/100\n",
            "9/9 [==============================] - 0s 21ms/step - loss: 2.5081e-05 - accuracy: 1.0000\n",
            "Epoch 89/100\n",
            "9/9 [==============================] - 0s 23ms/step - loss: 2.4531e-05 - accuracy: 1.0000\n",
            "Epoch 90/100\n",
            "9/9 [==============================] - 0s 22ms/step - loss: 2.4010e-05 - accuracy: 1.0000\n",
            "Epoch 91/100\n",
            "9/9 [==============================] - 0s 21ms/step - loss: 2.3450e-05 - accuracy: 1.0000\n",
            "Epoch 92/100\n",
            "9/9 [==============================] - 0s 23ms/step - loss: 2.2890e-05 - accuracy: 1.0000\n",
            "Epoch 93/100\n",
            "9/9 [==============================] - 0s 25ms/step - loss: 2.2393e-05 - accuracy: 1.0000\n",
            "Epoch 94/100\n",
            "9/9 [==============================] - 0s 21ms/step - loss: 2.1909e-05 - accuracy: 1.0000\n",
            "Epoch 95/100\n",
            "9/9 [==============================] - 0s 21ms/step - loss: 2.1457e-05 - accuracy: 1.0000\n",
            "Epoch 96/100\n",
            "9/9 [==============================] - 0s 21ms/step - loss: 2.1007e-05 - accuracy: 1.0000\n",
            "Epoch 97/100\n",
            "9/9 [==============================] - 0s 23ms/step - loss: 2.0603e-05 - accuracy: 1.0000\n",
            "Epoch 98/100\n",
            "9/9 [==============================] - 0s 21ms/step - loss: 2.0222e-05 - accuracy: 1.0000\n",
            "Epoch 99/100\n",
            "9/9 [==============================] - 0s 22ms/step - loss: 1.9821e-05 - accuracy: 1.0000\n",
            "Epoch 100/100\n",
            "9/9 [==============================] - 0s 21ms/step - loss: 1.9439e-05 - accuracy: 1.0000\n"
          ],
          "name": "stdout"
        }
      ]
    },
    {
      "cell_type": "code",
      "metadata": {
        "colab": {
          "base_uri": "https://localhost:8080/"
        },
        "id": "v7gOd9kTqY2C",
        "outputId": "e93111b9-4706-4d08-fb2e-7efb5f93d688"
      },
      "source": [
        "test_text = \"اذان صبح تهران ساعت چند است\"\n",
        "token_list = tokenizer.texts_to_sequences([test_text])\n",
        "token_list = pad_sequences(token_list, maxlen=max_sequence_len, padding='post')\n",
        "token_list\n"
      ],
      "execution_count": null,
      "outputs": [
        {
          "output_type": "execute_result",
          "data": {
            "text/plain": [
              "array([[14, 28,  4, 17,  1,  0,  0,  0,  0,  0,  0,  0,  0,  0,  0,  0,\n",
              "         0,  0,  0,  0]], dtype=int32)"
            ]
          },
          "metadata": {
            "tags": []
          },
          "execution_count": 123
        }
      ]
    },
    {
      "cell_type": "code",
      "metadata": {
        "id": "JCuoY9PRr_f7"
      },
      "source": [
        "model.save('nlp_model.h5')"
      ],
      "execution_count": null,
      "outputs": []
    },
    {
      "cell_type": "code",
      "metadata": {
        "id": "1XYpURDPtuwf"
      },
      "source": [
        "model2 = Sequential()\n",
        "model2.add(Embedding(301, 100, input_length= max_sequence_len - 1))\n",
        "model2.add(Bidirectional(LSTM(64)))\n",
        "model2.add(Dense(4, activation='softmax'))"
      ],
      "execution_count": null,
      "outputs": []
    },
    {
      "cell_type": "code",
      "metadata": {
        "id": "ll6gyCg6uGjl"
      },
      "source": [
        "from tensorflow import keras"
      ],
      "execution_count": null,
      "outputs": []
    },
    {
      "cell_type": "code",
      "metadata": {
        "id": "4NRESlI0r8YI"
      },
      "source": [
        "model = keras.models.load_model('nlp_model.h5')"
      ],
      "execution_count": null,
      "outputs": []
    },
    {
      "cell_type": "code",
      "metadata": {
        "colab": {
          "base_uri": "https://localhost:8080/"
        },
        "id": "ommTVcwMq1ka",
        "outputId": "448df626-7297-4fed-be50-65b198fb10b8"
      },
      "source": [
        "predicted = model.predict_classes(token_list, verbose= 0)\n",
        "predicted[0]"
      ],
      "execution_count": null,
      "outputs": [
        {
          "output_type": "stream",
          "text": [
            "/usr/local/lib/python3.7/dist-packages/tensorflow/python/keras/engine/sequential.py:455: UserWarning: `model.predict_classes()` is deprecated and will be removed after 2021-01-01. Please use instead:* `np.argmax(model.predict(x), axis=-1)`,   if your model does multi-class classification   (e.g. if it uses a `softmax` last-layer activation).* `(model.predict(x) > 0.5).astype(\"int32\")`,   if your model does binary classification   (e.g. if it uses a `sigmoid` last-layer activation).\n",
            "  warnings.warn('`model.predict_classes()` is deprecated and '\n"
          ],
          "name": "stderr"
        },
        {
          "output_type": "execute_result",
          "data": {
            "text/plain": [
              "2"
            ]
          },
          "metadata": {
            "tags": []
          },
          "execution_count": 137
        }
      ]
    },
    {
      "cell_type": "code",
      "metadata": {
        "id": "IMgUeGegq7QX"
      },
      "source": [
        "dict_thereshold = []\n",
        "\n",
        "for sentences, intent in dataset:\n",
        "\n",
        "  token_list = tokenizer.texts_to_sequences([sentences])\n",
        "  token_list = pad_sequences(token_list, maxlen=max_sequence_len, padding='post')\n",
        "  predicted = model.predict(token_list)\n",
        "  t1 = np.argmax(predicted)\n",
        "  t2 = predicted[0][t1]\n",
        "  dict_thereshold.append([sentences, t1, t2])\n"
      ],
      "execution_count": null,
      "outputs": []
    },
    {
      "cell_type": "code",
      "metadata": {
        "id": "IombW66htLdR",
        "colab": {
          "base_uri": "https://localhost:8080/"
        },
        "outputId": "70aa5be2-af08-45f4-bd41-5e0aa1f147fa"
      },
      "source": [
        "dict_thereshold[0]"
      ],
      "execution_count": null,
      "outputs": [
        {
          "output_type": "execute_result",
          "data": {
            "text/plain": [
              "[0, 0.9999956]"
            ]
          },
          "metadata": {
            "tags": []
          },
          "execution_count": 110
        }
      ]
    },
    {
      "cell_type": "code",
      "metadata": {
        "colab": {
          "base_uri": "https://localhost:8080/"
        },
        "id": "TxtO-O2lSi7S",
        "outputId": "a36f6af8-a279-4abe-cb25-a935ce6945ea"
      },
      "source": [
        "for i in dict_thereshold:\n",
        "  print(i)"
      ],
      "execution_count": null,
      "outputs": [
        {
          "output_type": "stream",
          "text": [
            "['هوا چطور است', 0, 0.9998723]\n",
            "['امروز هوا چطور است', 0, 0.9999763]\n",
            "['دمای هوای امروز چقدر است', 0, 0.9999945]\n",
            "['دمای هوای مشهد فردا چقدر است', 0, 0.99999726]\n",
            "['دمای هوای چهار روز بعد آبادان چقدر است', 0, 0.9999975]\n",
            "['دمای هوای دو روز بعد گرگان چند درجه سانتیگراد است', 0, 0.99999774]\n",
            "['درجه گرمای هوای دو روز بعد پاریس', 0, 0.9999957]\n",
            "['دمای هوای امروز مسکو', 0, 0.9999181]\n",
            "['اندازه ی گرمی یا سردی دمای امروز توکیو', 0, 0.9999962]\n",
            "['اندازه دمای هوای دو روز بعد تهران به چه میزان است', 0, 0.99999726]\n",
            "['میانگین دمای هوای تهران امروز چقدر است', 0, 0.99999654]\n",
            "['میانگین دمای هوای مشهد فردا چقدر است', 0, 0.9999974]\n",
            "['میانگین اندازه گرمی یا سردی هوای دو روز بعد کاشان چند درجه است', 0, 0.9999976]\n",
            "['دمای هوای چهار روز بعد پایتخت انگلستان چقدر است', 0, 0.99999774]\n",
            "['دمای هوای دو روز بعد پایتخت آذربایجان چند درجه سانتیگراد است', 0, 0.99999785]\n",
            "['دمای هوای فردای شیراز ساعت 14:25 چقدر است', 0, 0.9999974]\n",
            "['دمای هوای پس فردای قزوین ساعت ۱۶:۳۲ چقدر است', 0, 0.9999975]\n",
            "['دمای هوای دو روز بعد زنجان ساعت ۱۹:۱۰ چقدر است', 0, 0.99999785]\n",
            "['دمای هوای ۳ روز بعد تهران ساعت ۲۱:۵۰ چقدر است', 0, 0.99999785]\n",
            "['دمای هوای سه روز بعد تبریز ساعت ۱۹:۱۰ چقدر است', 0, 0.99999785]\n",
            "['دمای هوای تهران ساعت ۹ و ۱۰ دقیقه چند درجه است', 0, 0.9999976]\n",
            "['درجه حرارت هوای دو روز بعد یزد ساعت ۱۹:۱۰ چقدر است', 0, 0.9999968]\n",
            "['اندازه گرمی یا سردی هوای دو روز بعد همدان ساعت ۲۱:۱۰ چقدر است', 0, 0.99999774]\n",
            "['اندازه گرمی یا سردی هوای دو روز بعد کاشان ساعت ۱۹:۱۹ چند درجه است', 0, 0.9999975]\n",
            "['اندازه گرمی یا سردی هوای دو روز بعد تهران ساعت ۱۸:۵۱ چند درجه سانتیگراد است', 0, 0.9999975]\n",
            "['درجه حرارت هوای دو روز بعد استانبول ساعت ۲۱:۱۰ چند درجه است', 0, 0.99999666]\n",
            "['اندازه گرمی یا سردی هوای دو روز بعد باکو ساعت ۱۸:۱۰ چند درجه سانتیگراد است', 0, 0.9999975]\n",
            "['اندازه دمای هوای پنچ روز بعد تهران ساعت ۱۹:۱۰ چقدر است', 0, 0.99999774]\n",
            "['اندازه گرمی یا سردی هوای ۳ روز بعد تهران ساعت ۱۸:۲۰ چقدر است', 0, 0.99999774]\n",
            "['اندازه دمای هوای ۴ روز بعد کرمان ساعت ۱۹:۳۱ چند درجه است', 0, 0.9999976]\n",
            "['اندازه دمای هوای دو روز بعد اردبیل ساعت ۲۱:۱۰ چند درجه سانتیگراد است', 0, 0.9999976]\n",
            "['اندازه دمای هوای دو روز بعد شهر ساری ساعت ۴:۱۰ چند درجه است', 0, 0.9999976]\n",
            "['دمای هوای دو روز بعد شهر کرمانشاه ساعت ۱۳:۵۸ چند درجه است', 0, 0.99999785]\n",
            "['درجه گرمای هوای دو روز بعد نیویورک ساعت ۲:۱۰ چقدر است', 0, 0.9999969]\n",
            "['درجه گرمای هوای دو روز بعد تورنتو ساعت ۶:۲۰ چند درجه است', 0, 0.99999666]\n",
            "['درجه گرمای هوای دو روز بعد لندن ساعت ۱۹:۱۸ چند درجه سانتیگراد است', 0, 0.99999666]\n",
            "['درجه دمای هوای دو روز بعد سئول ساعت ۱۵:۱۵ چقدر است', 0, 0.9999969]\n",
            "['درجه دمای هوای ۳ روز دیگر رم ساعت ۱۶:۱۰ چند درجه است', 0, 0.9999968]\n",
            "['دمای هوای روز بعدی در تهران ساعت ۱:۱۰ چقدر است', 0, 0.99999774]\n",
            "['گرمی هوای فردای تهران ساعت ۱۹:۱ چقدر است', 0, 0.9999969]\n",
            "['دمای هوای دو روز بعد رشت ساعت ۹ و ۱ دقیقه به چه میزان است', 0, 0.9999976]\n",
            "['درجه دمای هوای دو روز بعد سمنان ساعت ۹:۱۱ به چه میزان است', 0, 0.99999666]\n",
            "['گرمی یا سردی هوای دو روز بعد تاشکند ساعت ۱:۲۰ به چه میزان است', 0, 0.9999974]\n",
            "['درجه حرارت هوای دو روز بعد پکن ساعت ۲۰:۱۰ به چه میزان است', 0, 0.99999654]\n",
            "['اندازه گرمی هوای دو روز بعد تهران ساعت ۸ و ۲۰ دقیقه به چه میزان است', 0, 0.99999726]\n",
            "['اندازه گرمی یا سردی هوای دو روز بعد تهران ساعت ۸ و ۲۰ دقیقه ی شب به چه میزان است', 0, 0.99999726]\n",
            "['اندازه دمای هوای دو روز بعد تهران ساعت ۱۹:۱۰ به چه میزان است', 0, 0.9999976]\n",
            "['دمای هوای ۳ روز بعد پایتخت ایران ساعت ۲۱:۵۰ چقدر است', 0, 0.99999785]\n",
            "['دمای هوای سه روز بعد پایتخت روسیه ساعت ۱۹:۱۰ چقدر است', 0, 0.99999785]\n",
            "['دمای هوای پایتخت ازبکستان ساعت ۹ و ۱۰ دقیقه چند درجه است', 0, 0.99999774]\n",
            "['حداقل دمای هوای فردای شیراز چقدر است', 0, 0.9999962]\n",
            "['حداکثر دمای هوای پس فردای قزوین چقدر است', 0, 0.99999654]\n",
            "['کمترین دمای هوای دو روز بعد زنجان چقدر است', 0, 0.99999774]\n",
            "['کمینه دمای هوای ۳ روز بعد تهران چقدر است', 0, 0.9999968]\n",
            "['بیشترین دمای هوای سه روز بعد تبریز چقدر است', 0, 0.99999666]\n",
            "['گرم ترین دمای هوای دو روز بعد همدان چقدر است', 0, 0.99999726]\n",
            "['اختلاف کمترین و بیشترین دمای هوای چهار روز بعد آبادان چقدر است', 0, 0.99999774]\n",
            "['اختلاف میانگین و بیشترین دمای هوای تهران چند درجه است', 0, 0.9999974]\n",
            "['اختلاف حداقل و میانگین دمای هوای دو روز بعد گرگان چند درجه سانتیگراد است', 0, 0.9999976]\n",
            "['اختلاف میانگین درجه حرارت هوای امروز و فردای یزد چقدر است', 0, 0.9999975]\n",
            "['امروز میانگین دمای هوای مشهد سردتر است یا تهران', 0, 0.99999654]\n",
            "['امروز حداقل دمای هوای مشهد سردتر است یا تهران', 0, 0.99999654]\n",
            "['امروز حداکثر دمای هوای مشهد گرمتر است یا تهران', 0, 0.99999654]\n",
            "['دو روز بعد حداکثر دمای هوای مشهد گرمتر است یا تهران', 0, 0.9999968]\n",
            "['سه روز بعد میانگین دمای هوای مشهد گرمتر است یا تهران', 0, 0.99999666]\n",
            "['چهار روز بعد حداقل دمای هوای مشهد گرم تر است یا تهران', 0, 0.999997]\n",
            "['حداکثر دمای هوای امروز مشهد گرم تر است یا فردای تهران', 0, 0.99999774]\n",
            "['میانگین دمای هوای امروز مشهد گرم تر است یا فردای تهران', 0, 0.99999774]\n",
            "['حداقل دمای هوای امروز مشهد گرم تر است یا فردای تهران', 0, 0.9999976]\n",
            "['حداکثر دمای هوای امروز مشهد گرم تر است یا پس فردای تهران', 0, 0.9999976]\n",
            "['میانگین دمای هوای امروز مشهد گرم تر است یا پس فردای تهران', 0, 0.99999774]\n",
            "['حداقل دمای هوای امروز مشهد گرم تر است یا پس فردای تهران', 0, 0.9999976]\n",
            "['حداکثر دمای هوای فردای مشهد گرم تر است یا پس فردای تهران', 0, 0.9999976]\n",
            "['میانگین دمای هوای فردای مشهد گرم تر است یا پس فردای تهران', 0, 0.9999976]\n",
            "['حداقل دمای هوای فردای مشهد گرم تر است یا پس فردای تهران', 0, 0.9999974]\n",
            "['بیشینه دمای هوای فردای مشهد گرم تر است یا پس فردای تبریز', 0, 0.99999833]\n",
            "['کمینه دمای هوای فردای مشهد گرم تر است یا پس فردای تبریز', 0, 0.999997]\n",
            "['دمای هوا در زمان اذان صبح امروز تهران چقدر است', 0, 0.9999975]\n",
            "['دمای هوا در زمان اذان ظهر امروز تهران چقدر است', 0, 0.999997]\n",
            "['دمای هوا در زمان اذان مغرب امروز تهران چقدر است', 0, 0.9999975]\n",
            "['دمای هوا در زمان اذان مغرب امروز قم چقدر است', 0, 0.9999976]\n",
            "['دمای هوا در زمان اذان ظهر امروز قم چقدر است', 0, 0.9999974]\n",
            "['دمای هوا در زمان اذان صبح امروز قم چقدر است', 0, 0.9999975]\n",
            "['دمای هوای در زمان نیمه شب شرعی امروز قم چقدر است', 0, 0.999997]\n",
            "['دمای هوای در زمان نیمه شب شرعی امروز تهران چقدر است', 0, 0.99999654]\n",
            "['دمای هوای در زمان نیمه شب شرعی فردای تهران چقدر است', 0, 0.9999932]\n",
            "['دمای هوای در زمان نیمه شب شرعی فردای قم چقدر است', 0, 0.9999957]\n",
            "['دمای هوای در زمان اذان ظهر فردای قم چقدر است', 0, 0.9999968]\n",
            "['دمای هوای در زمان اذان صبح فردای قم چقدر است', 0, 0.99999726]\n",
            "['دمای هوای در زمان اذان مغرب فردای قم چقدر است', 0, 0.9999974]\n",
            "['دمای هوای در زمان اذان صبح فردای تهران چقدر است', 0, 0.9999969]\n",
            "['دمای هوای در زمان اذان ظهر فردای تهران چقدر است', 0, 0.9999958]\n",
            "['دمای هوای در زمان اذان مغرب فردای تهران چقدر است', 0, 0.99999714]\n",
            "['دمای هوای در زمان نیمه شب شرعی ۳ روز بعد مشهد چقدر است', 0, 0.99999785]\n",
            "['دمای هوای در زمان اذان صبح ۳ روز بعد مشهد چقدر است', 0, 0.99999785]\n",
            "['دمای هوای در زمان اذان ظهر ۳ روز بعد مشهد چقدر است', 0, 0.99999785]\n",
            "['دمای هوای در زمان اذان مغرب ۳ روز بعد مشهد چقدر است', 0, 0.99999785]\n",
            "['اذان صبح تهران سردتر است یا اذان ظهر آن', 0, 0.9999877]\n",
            "['اذان صبح امروز تهران سردتر است یا فردا', 0, 0.99999034]\n",
            "['اذان صبح امروز تهران سردتر است یا پس فردا', 0, 0.99998975]\n",
            "['اذان صبح امروز تهران سردتر است یا اذان ظهر پس فردا', 0, 0.99999094]\n",
            "['اذان صبح امروز تهران سردتر است یا اذان ظهر ۳ روز بعد', 0, 0.99999297]\n",
            "['اذان صبح فردای تهران گرمتر است یا اذان ظهر امروز آن', 0, 0.9999876]\n",
            "['اذان صبح فردای تهران گرمتر است یا نیمه شب شرعی ۳ روز بعد', 0, 0.9999901]\n",
            "['اذان ظهر پس فردای تهران گرمتر است یا نیمه شب شرعی ۳ روز بعد آن', 0, 0.9999869]\n",
            "['اذان ظهر تهران دو روز بعد گرمتر است یا نیمه شب شرعی ۳ روز بعد', 0, 0.9999927]\n",
            "['اذان ظهر ۲ روز دیگر تهران گرمتر است یا نیمه شب شرعی ۳ روز بعد', 0, 0.99999166]\n",
            "['امروز ساعت ۱۴:۲۵ هوای تهران سردتر است یا فردا ساعت ۲', 0, 0.99999666]\n",
            "['امروز ساعت دو و نیم بعد از ظهر هوای تهران سردتر است یا فردا ساعت ۱۲', 0, 0.99999666]\n",
            "['امروز ساعت دو و نیم بعد از ظهر هوای تهران سردتر است یا فردا ساعت 12:45', 0, 0.99999654]\n",
            "['امروز ساعت شش عصر هوای تهران سردتر است یا فردا ساعت ۱۲', 0, 0.99999666]\n",
            "['امروز ساعت دو و نیم بعد از ظهر هوای تهران سردتر است یا فردا ساعت هفت صبح', 0, 0.99999654]\n",
            "['امروز ساعت دو و نیم بعد از ظهر هوای تهران سردتر است یا فردا ساعت سه و نیم بامداد', 0, 0.9999964]\n",
            "['فردا ساعت دو و نیم بعد از ظهر هوای تهران سردتر است یا پس فردا ساعت سه و نیم بامداد', 0, 0.9999975]\n",
            "['فردا ساعت دو و نیم بعد از ظهر هوای تهران سردتر است یا ساعت سه و نیم بامداد', 0, 0.99999726]\n",
            "['امروز ساعت دو و نیم بعد از ظهر هوای تهران سردتر است یا ساعت سه و نیم بامداد', 0, 0.9999964]\n",
            "['پس فردا ساعت دو و نیم بعد از ظهر هوای تهران سردتر است یا ساعت ۳ و نیم بامداد', 0, 0.99999356]\n",
            "['سه روز بعد ساعت دو و ربع بعد از ظهر هوای تهران سردتر است یا ساعت سه و نیم بامداد', 0, 0.99999666]\n",
            "['امروز ساعت ۱۴:۲۵ هوای تهران گرمتر است یا فردا ساعت ۲', 0, 0.99999666]\n",
            "['امروز ساعت دو و نیم بعد از ظهر هوای تهران گرمتر است یا فردا ساعت ۱۲', 0, 0.99999654]\n",
            "['امروز ساعت دو و نیم بعد از ظهر هوای تهران گرمتر است یا فردا ساعت 12:45', 0, 0.99999654]\n",
            "['امروز ساعت شش عصر هوای تهران گرمتر است یا فردا ساعت ۱۲', 0, 0.99999666]\n",
            "['امروز ساعت دو و نیم بعد از ظهر هوای تهران گرمتر است یا فردا ساعت هفت صبح', 0, 0.9999964]\n",
            "['امروز ساعت دو و نیم بعد از ظهر هوای تهران گرمتر است یا فردا ساعت سه و نیم بامداد', 0, 0.9999964]\n",
            "['فردا ساعت دو و نیم بعد از ظهر هوای تهران گرمتر است یا پس فردا ساعت سه و نیم بامداد', 0, 0.9999975]\n",
            "['فردا ساعت دو و نیم بعد از ظهر هوای تهران سردتر است یا ساعت سه و نیم بامداد', 0, 0.99999726]\n",
            "['امروز ساعت دو و نیم بعد از ظهر هوای تهران گرمتر است یا ساعت سه و نیم بامداد', 0, 0.9999964]\n",
            "['پس فردا ساعت دو و نیم بعد از ظهر هوای تهران گرمتر است یا ساعت ۳ و نیم بامداد', 0, 0.99999344]\n",
            "['سه روز بعد ساعت دو و ربع بعد از ظهر هوای تهران گرمتر است یا ساعت سه و نیم بامداد', 0, 0.99999666]\n",
            "['فردا بارانی است؟', 0, 0.9999416]\n",
            "['دمای هوای 7 آذر و بیست و سوم اردیبهشت تهران چقدر است', 0, 0.99999774]\n",
            "['دمای هوای 28-10-1400 تهران چقدر است', 0, 0.999997]\n",
            "['دمای هوای قزوین و تهران الان چقدر است', 0, 0.9999956]\n",
            "['اذان صبح امروز تهران چه ساعتی است', 2, 0.9999727]\n",
            "['اذان ظهر فردای تهران چه ساعتی است', 2, 0.9999707]\n",
            "['اذان ظهر دیروز تهران چه ساعتی بود', 2, 0.99998415]\n",
            "['اذان مغرب دیروز قم چه ساعتی بود', 2, 0.9999901]\n",
            "['اذان ظهر پس فردای تهران چه ساعتی است', 2, 0.9999757]\n",
            "['نیمه شب شرعی تهران چه ساعتی است', 2, 0.9999473]\n",
            "['اذان صبح مسکو چه ساعتی است', 2, 0.9999764]\n",
            "['طلوع آفتاب مسکو چه ساعتی است', 2, 0.99998724]\n",
            "['غروب آفتاب مشهد چه ساعتی است', 2, 0.99997544]\n",
            "['غروب آفتاب کابل چه ساعتی است', 2, 0.99996555]\n",
            "['اذان مغرب پریروز قم چه ساعتی بود', 2, 0.9999901]\n",
            "['اذان ظهر ۴ روز پیش قم چه ساعتی بود', 2, 0.99996686]\n",
            "['اذان ظهر هفته ی قبل شیراز چه ساعتی بود', 2, 0.99999344]\n",
            "['اذان ظهر هفته ی بعد شیراز چه ساعتی است', 2, 0.99998164]\n",
            "['اذان صبح امروز دوحه چه ساعتی است', 2, 0.99998605]\n",
            "['اذان ظهر امروز بغداد چه ساعتی است', 2, 0.99998784]\n",
            "['اذان ظهر امروز تهران چه زمانی است', 2, 0.9999472]\n",
            "['ساعت اذان ظهر بیروت', 2, 0.99984133]\n",
            "['اذان ظهر بیروت چه زمانی است', 2, 0.9999809]\n",
            "['اذان ظهر فردای تورنتو چه زمانی است', 2, 0.9999589]\n",
            "['نیمه شب شرعی تهران 12 آبان چه ساعتی است', 2, 0.99998677]\n",
            "['نماز عشا کی قضا می شود؟', 2, 0.99998236]\n",
            "['نماز مغرب کی قضا می شود؟', 2, 0.99998605]\n",
            "['نماز عصر کی قضا می شود؟', 2, 0.9999709]\n",
            "['نماز ظهر کی قضا می شود', 2, 0.99997926]\n",
            "['نماز صبح کی قضا می شود؟', 2, 0.99997497]\n",
            "['چند دقیقه به اذان صبح', 2, 0.99993527]\n",
            "['چند دقیقه به اذان ظهر', 2, 0.9999441]\n",
            "['چند دقیقه به اذان مغرب', 2, 0.9999658]\n",
            "['چند دقیقه به افطار', 2, 0.9998272]\n",
            "['ساعت در تهران چند است', 1, 0.9999615]\n",
            "['در نیویورک چه زمانی از روز است', 1, 0.9999343]\n",
            "['ساعت به وقت ابوظبی چند است', 1, 0.99997616]\n",
            "['ساعت به وقت بیروت چند است', 1, 0.99990153]\n",
            "['ساعت اسلام آباد چند است', 1, 0.99997044]\n",
            "['ساعت به طور دقیق در استانبول چند است', 1, 0.99998116]\n",
            "['در کابل چه زمانی از روز است', 1, 0.99990296]\n",
            "['ساعت در شهر زوریخ چند است', 1, 0.9999826]\n",
            "['ساعت در لس آنجلس چند است', 1, 0.9999838]\n",
            "['الان به وقت تهران چه زمانی از روز است', 1, 0.9999783]\n",
            "['الان در سنگاپور چه ساعتی در شبانه روز است', 1, 0.9999769]\n",
            "['الان در استکهلم ساعت دقیقا چند است', 1, 0.99998903]\n",
            "['در این لحظه ساعت مسکو چند است', 1, 0.9999701]\n",
            "['در تاشکند، این لحظه چه زمانی از روز است', 1, 0.9999664]\n",
            "['ساعت فعلی در تورنتو', 1, 0.99996614]\n",
            "['ساعت فعلی ونکوور چند است', 1, 0.9999751]\n",
            "['ساعت دبی در این لحظه چند است', 1, 0.9999857]\n",
            "['اکنون در ریاض چه زمانی از روز است', 1, 0.99997723]\n",
            "['ساعت کنونی آمستردام چند است', 1, 0.99997497]\n",
            "['اکنون در شهر باکو ساعت چند است', 1, 0.9999733]\n",
            "['ساعت در پایتخت ایران چند است', 1, 0.99997056]\n",
            "['در پایتخت روسیه چه زمانی از روز است', 1, 0.9999633]\n",
            "['ساعت به وقت پایتخت آذربایجان چند است', 1, 0.99997663]\n",
            "['الان به وقت پایتخت ازبکستان چه زمانی از روز است', 1, 0.99998164]\n",
            "['الان در پایتخت انگلستان چه ساعتی در شبانه روز است', 1, 0.99997854]\n",
            "['اختلاف ساعت تهران و نیویورک چندساعت است؟', 1, 0.99995124]\n",
            "['روز حافظ در سال ۹۹ چه روزی است', 3, 0.9999788]\n",
            "['روز حافظ در سال ۱۳۹۶ چه روزی است', 3, 0.9999825]\n",
            "['امسال سالروز شهادت سردار حاج قاسم سلیمانی چه روزی است', 3, 0.9999877]\n",
            "['شهادت حضرت فاطمه زهرا سلام الله علیها چه روزی است', 3, 0.99998355]\n",
            "['کدام روز از سال ۱۴۰۳ روز اصناف است', 3, 0.99997866]\n",
            "['در سال ۹۷ روز جهانی محیط زیست چه روزی است', 3, 0.9999788]\n",
            "['سالروز زمین لرزه ی بم در سال ۹۹ کدام روز است', 3, 0.999984]\n",
            "['امسال جشن سده در کدام روز است', 3, 0.999979]\n",
            "['روز جهانی بهداشت در سال ۹۹ کدام روز از سال است', 3, 0.99998295]\n",
            "['سالگرد درگذشت پروین اعتصامی در سال ۱۳۹۶ کدام روز است', 3, 0.9999825]\n",
            "['روز دندانپزشک در سال ۱۳۹۶', 3, 0.9999702]\n",
            "['روز جمهوری اسلامی در سال 1400', 3, 0.999979]\n",
            "['کدام روز از سال ۱۴۰۰ روز قلم است', 3, 0.9999789]\n",
            "['سالگرد اعلام پذیرش قطعنامه ۵۹۸ شورای امنیت از سوی ایران در کدام روز ۱۴۰۰ اتفاق افتاده است', 3, 0.9999887]\n",
            "['تاریخ روز صنعت و معدن امسال چه روزی است', 3, 0.9999887]\n",
            "['در این سال روز عرفه چه روزی بود', 3, 0.99996114]\n",
            "['تاریخ برگزاری اولین کنکور در ایران', 3, 0.99997735]\n",
            "['روز خبرنگار کدام روز از امسال است', 3, 0.99997914]\n",
            "['عید سعید غدیر خم کدام روز امسال است', 3, 0.9999826]\n",
            "['تاریخ ولادت امام موسی کاظم علیه السلام در سال ۹۹', 3, 0.9999889]\n",
            "['تاریخ روز جهانی چپ دست ها در سال 99', 3, 0.9999901]\n",
            "['روز بزرگداشت ابوعلی سینا و روز پزشک در کدام روز سال ۹۹ است', 3, 0.99997795]\n",
            "['روز سینما در سال ۱۳۹۹', 3, 0.9999734]\n",
            "['مناسبت روز ۱۸ اسفند امسال چیست', 3, 0.99998665]\n",
            "['مناسبت ۱۸ اسفند سال بعد چیست', 3, 0.99997485]\n",
            "['چه مناسبت هایی در هفته پیش رو وجود دارد', 3, 0.99993134]\n",
            "['چه مناسبت هایی در تاریخ 14 تا 19 دی وجود دارد ', 3, 0.9999603]\n",
            "['22 بهمن سال آینده به میلادی؟', 3, 0.99998295]\n",
            "['17 شهریور به میلادی؟', 3, 0.9999386]\n",
            "['تاریخ میلادی امروز', 3, 0.9999379]\n",
            "['11 محرم سال بعد به میلادی؟', 3, 0.9999603]\n",
            "['12 فوریه 1996 به شمسی؟ ', 3, 0.9999778]\n",
            "['تاریخ شمسی امروز', 3, 0.9999428]\n",
            "['21 رمضان 1449 به شمسی؟', 3, 0.99997723]\n",
            "['23 بهمن سال آینده به قمری ؟', 3, 0.99997914]\n",
            "['12 فوریه  1996 به قمری', 3, 0.99997437]\n",
            "['از 12 بهمن تا 29 اذر چند روز است', 3, 0.99995995]\n",
            "['فاصله بین روز سینما  و  روز پزشک', 3, 0.9999796]\n",
            "['چند روز تا عاشورا مانده است؟', 3, 0.9999075]\n",
            "['چند روز تا ۱۵ اردیبهشت مانده است؟', 3, 0.99993026]\n",
            "['سلام', 4, 0.9999714]\n",
            "['سلام ماتریس', 4, 0.99997795]\n",
            "['درود', 4, 0.9999721]\n",
            "['درود بر تو', 4, 0.999982]\n",
            "['سلام کراکن', 4, 0.9999784]\n",
            "['سلام گل من', 4, 0.9999813]\n",
            "['سلام خوشگلم', 4, 0.9999783]\n",
            "['سلام عزیزم', 4, 0.9999782]\n",
            "['درود بر شما', 4, 0.9999814]\n",
            "['حالت چطوره', 4, 0.9999757]\n",
            "['خوبی', 4, 0.9999602]\n",
            "['حالت خوبه', 4, 0.9999758]\n",
            "['چطوری', 4, 0.99996877]\n",
            "['رو به راهی رو به رشدی', 4, 0.9999616]\n",
            "['چه خبر', 4, 0.99988616]\n",
            "['دیگه چه خبر', 4, 0.9999709]\n",
            "['چه خبرا', 4, 0.99988663]\n",
            "['خسته نباشی', 4, 0.999969]\n",
            "['راجع به چی بپرسم', 4, 0.9999796]\n",
            "['در چه زمینه ای میتونم سوال بپرسم', 4, 0.999881]\n",
            "['راجع به چی میتونم بپرسم', 4, 0.9999819]\n",
            "['از چی بپرسم', 4, 0.9999329]\n",
            "['چی بگم', 4, 0.99997556]\n",
            "['مرسی', 4, 0.99996436]\n",
            "['ممنونم', 4, 0.9999683]\n",
            "['متشکرم', 4, 0.9999652]\n",
            "['سپاس', 4, 0.99996567]\n",
            "['تشکر', 4, 0.99997115]\n",
            "['خداحافظ', 4, 0.9999579]\n",
            "['خدا نگهدار', 4, 0.9999709]\n",
            "['بدرود', 4, 0.999961]\n",
            "['فعلا', 4, 0.99996793]\n",
            "['من رفتم', 4, 0.99997306]\n"
          ],
          "name": "stdout"
        }
      ]
    },
    {
      "cell_type": "code",
      "metadata": {
        "colab": {
          "base_uri": "https://localhost:8080/"
        },
        "id": "vIAURJCCTfe8",
        "outputId": "2cd07697-0558-4766-9950-4b617066c6c5"
      },
      "source": [
        ""
      ],
      "execution_count": null,
      "outputs": [
        {
          "output_type": "stream",
          "text": [
            "salam\n"
          ],
          "name": "stdout"
        }
      ]
    },
    {
      "cell_type": "code",
      "metadata": {
        "id": "1T1nNxbUoC_X"
      },
      "source": [
        ""
      ],
      "execution_count": null,
      "outputs": []
    }
  ]
}